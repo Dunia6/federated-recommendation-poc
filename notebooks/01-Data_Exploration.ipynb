{
 "cells": [
  {
   "cell_type": "code",
   "execution_count": 5,
   "id": "a179e12d",
   "metadata": {},
   "outputs": [
    {
     "name": "stdout",
     "output_type": "stream",
     "text": [
      "Données chargées avec succès.\n",
      "Nombre de notes : 1000209\n",
      "Nombre d'utilisateurs : 6040\n",
      "Nombre de films : 3883\n"
     ]
    }
   ],
   "source": [
    "import sys\n",
    "import os\n",
    "# Ajouter le dossier src au path pour pouvoir importer nos modules\n",
    "src_path = os.path.abspath('src')\n",
    "if src_path not in sys.path:\n",
    "    sys.path.append(src_path)\n",
    "\n",
    "from data_pipeline.loader import load_movielens_1m\n",
    "\n",
    "DATA_PATH = 'data/ml-1m'\n",
    "ratings_df, users_df, movies_df = load_movielens_1m(DATA_PATH)"
   ]
  },
  {
   "cell_type": "code",
   "execution_count": null,
   "id": "c756b41c-b0d6-4c00-b6e8-f49a950af864",
   "metadata": {},
   "outputs": [],
   "source": []
  }
 ],
 "metadata": {
  "kernelspec": {
   "display_name": "Python (Analysis)",
   "language": "python",
   "name": "poc-analysis"
  },
  "language_info": {
   "codemirror_mode": {
    "name": "ipython",
    "version": 3
   },
   "file_extension": ".py",
   "mimetype": "text/x-python",
   "name": "python",
   "nbconvert_exporter": "python",
   "pygments_lexer": "ipython3",
   "version": "3.10.18"
  }
 },
 "nbformat": 4,
 "nbformat_minor": 5
}
